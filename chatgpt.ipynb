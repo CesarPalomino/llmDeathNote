{
 "cells": [
  {
   "cell_type": "code",
   "execution_count": 27,
   "metadata": {},
   "outputs": [
    {
     "name": "stdout",
     "output_type": "stream",
     "text": [
      "Requirement already satisfied: langchain in c:\\users\\miguel\\anaconda3\\lib\\site-packages (0.1.16)\n",
      "Requirement already satisfied: openai in c:\\users\\miguel\\anaconda3\\lib\\site-packages (1.24.0)\n",
      "Requirement already satisfied: python-dotenv in c:\\users\\miguel\\anaconda3\\lib\\site-packages (0.21.0)\n",
      "Requirement already satisfied: PyYAML>=5.3 in c:\\users\\miguel\\anaconda3\\lib\\site-packages (from langchain) (6.0.1)\n",
      "Requirement already satisfied: SQLAlchemy<3,>=1.4 in c:\\users\\miguel\\anaconda3\\lib\\site-packages (from langchain) (2.0.25)\n",
      "Requirement already satisfied: aiohttp<4.0.0,>=3.8.3 in c:\\users\\miguel\\anaconda3\\lib\\site-packages (from langchain) (3.9.3)\n",
      "Requirement already satisfied: dataclasses-json<0.7,>=0.5.7 in c:\\users\\miguel\\anaconda3\\lib\\site-packages (from langchain) (0.6.5)\n",
      "Requirement already satisfied: jsonpatch<2.0,>=1.33 in c:\\users\\miguel\\anaconda3\\lib\\site-packages (from langchain) (1.33)\n",
      "Requirement already satisfied: langchain-community<0.1,>=0.0.32 in c:\\users\\miguel\\anaconda3\\lib\\site-packages (from langchain) (0.0.34)\n",
      "Requirement already satisfied: langchain-core<0.2.0,>=0.1.42 in c:\\users\\miguel\\anaconda3\\lib\\site-packages (from langchain) (0.1.46)\n",
      "Requirement already satisfied: langchain-text-splitters<0.1,>=0.0.1 in c:\\users\\miguel\\anaconda3\\lib\\site-packages (from langchain) (0.0.1)\n",
      "Requirement already satisfied: langsmith<0.2.0,>=0.1.17 in c:\\users\\miguel\\anaconda3\\lib\\site-packages (from langchain) (0.1.52)\n",
      "Requirement already satisfied: numpy<2,>=1 in c:\\users\\miguel\\anaconda3\\lib\\site-packages (from langchain) (1.26.4)\n",
      "Requirement already satisfied: pydantic<3,>=1 in c:\\users\\miguel\\anaconda3\\lib\\site-packages (from langchain) (2.7.1)\n",
      "Requirement already satisfied: requests<3,>=2 in c:\\users\\miguel\\anaconda3\\lib\\site-packages (from langchain) (2.31.0)\n",
      "Requirement already satisfied: tenacity<9.0.0,>=8.1.0 in c:\\users\\miguel\\anaconda3\\lib\\site-packages (from langchain) (8.2.3)\n",
      "Requirement already satisfied: anyio<5,>=3.5.0 in c:\\users\\miguel\\anaconda3\\lib\\site-packages (from openai) (4.2.0)\n",
      "Requirement already satisfied: distro<2,>=1.7.0 in c:\\users\\miguel\\anaconda3\\lib\\site-packages (from openai) (1.8.0)\n",
      "Requirement already satisfied: httpx<1,>=0.23.0 in c:\\users\\miguel\\anaconda3\\lib\\site-packages (from openai) (0.27.0)\n",
      "Requirement already satisfied: sniffio in c:\\users\\miguel\\anaconda3\\lib\\site-packages (from openai) (1.3.0)\n",
      "Requirement already satisfied: tqdm>4 in c:\\users\\miguel\\anaconda3\\lib\\site-packages (from openai) (4.65.0)\n",
      "Requirement already satisfied: typing-extensions<5,>=4.7 in c:\\users\\miguel\\anaconda3\\lib\\site-packages (from openai) (4.9.0)\n",
      "Requirement already satisfied: aiosignal>=1.1.2 in c:\\users\\miguel\\anaconda3\\lib\\site-packages (from aiohttp<4.0.0,>=3.8.3->langchain) (1.2.0)\n",
      "Requirement already satisfied: attrs>=17.3.0 in c:\\users\\miguel\\anaconda3\\lib\\site-packages (from aiohttp<4.0.0,>=3.8.3->langchain) (23.1.0)\n",
      "Requirement already satisfied: frozenlist>=1.1.1 in c:\\users\\miguel\\anaconda3\\lib\\site-packages (from aiohttp<4.0.0,>=3.8.3->langchain) (1.4.0)\n",
      "Requirement already satisfied: multidict<7.0,>=4.5 in c:\\users\\miguel\\anaconda3\\lib\\site-packages (from aiohttp<4.0.0,>=3.8.3->langchain) (6.0.4)\n",
      "Requirement already satisfied: yarl<2.0,>=1.0 in c:\\users\\miguel\\anaconda3\\lib\\site-packages (from aiohttp<4.0.0,>=3.8.3->langchain) (1.9.3)\n",
      "Requirement already satisfied: idna>=2.8 in c:\\users\\miguel\\anaconda3\\lib\\site-packages (from anyio<5,>=3.5.0->openai) (3.4)\n",
      "Requirement already satisfied: marshmallow<4.0.0,>=3.18.0 in c:\\users\\miguel\\anaconda3\\lib\\site-packages (from dataclasses-json<0.7,>=0.5.7->langchain) (3.21.1)\n",
      "Requirement already satisfied: typing-inspect<1,>=0.4.0 in c:\\users\\miguel\\anaconda3\\lib\\site-packages (from dataclasses-json<0.7,>=0.5.7->langchain) (0.9.0)\n",
      "Requirement already satisfied: certifi in c:\\users\\miguel\\anaconda3\\lib\\site-packages (from httpx<1,>=0.23.0->openai) (2024.2.2)\n",
      "Requirement already satisfied: httpcore==1.* in c:\\users\\miguel\\anaconda3\\lib\\site-packages (from httpx<1,>=0.23.0->openai) (1.0.5)\n",
      "Requirement already satisfied: h11<0.15,>=0.13 in c:\\users\\miguel\\anaconda3\\lib\\site-packages (from httpcore==1.*->httpx<1,>=0.23.0->openai) (0.14.0)\n",
      "Requirement already satisfied: jsonpointer>=1.9 in c:\\users\\miguel\\anaconda3\\lib\\site-packages (from jsonpatch<2.0,>=1.33->langchain) (2.1)\n",
      "Requirement already satisfied: packaging<24.0,>=23.2 in c:\\users\\miguel\\anaconda3\\lib\\site-packages (from langchain-core<0.2.0,>=0.1.42->langchain) (23.2)\n",
      "Requirement already satisfied: orjson<4.0.0,>=3.9.14 in c:\\users\\miguel\\anaconda3\\lib\\site-packages (from langsmith<0.2.0,>=0.1.17->langchain) (3.10.1)\n",
      "Requirement already satisfied: annotated-types>=0.4.0 in c:\\users\\miguel\\anaconda3\\lib\\site-packages (from pydantic<3,>=1->langchain) (0.6.0)\n",
      "Requirement already satisfied: pydantic-core==2.18.2 in c:\\users\\miguel\\anaconda3\\lib\\site-packages (from pydantic<3,>=1->langchain) (2.18.2)\n",
      "Requirement already satisfied: charset-normalizer<4,>=2 in c:\\users\\miguel\\anaconda3\\lib\\site-packages (from requests<3,>=2->langchain) (2.0.4)\n",
      "Requirement already satisfied: urllib3<3,>=1.21.1 in c:\\users\\miguel\\anaconda3\\lib\\site-packages (from requests<3,>=2->langchain) (2.0.7)\n",
      "Requirement already satisfied: greenlet!=0.4.17 in c:\\users\\miguel\\anaconda3\\lib\\site-packages (from SQLAlchemy<3,>=1.4->langchain) (3.0.1)\n",
      "Requirement already satisfied: colorama in c:\\users\\miguel\\anaconda3\\lib\\site-packages (from tqdm>4->openai) (0.4.6)\n",
      "Requirement already satisfied: mypy-extensions>=0.3.0 in c:\\users\\miguel\\anaconda3\\lib\\site-packages (from typing-inspect<1,>=0.4.0->dataclasses-json<0.7,>=0.5.7->langchain) (1.0.0)\n"
     ]
    }
   ],
   "source": [
    "!pip install langchain openai python-dotenv"
   ]
  },
  {
   "cell_type": "code",
   "execution_count": 28,
   "metadata": {},
   "outputs": [],
   "source": [
    "from dotenv import load_dotenv, find_dotenv\n",
    "\n",
    "_ = load_dotenv(find_dotenv())"
   ]
  },
  {
   "cell_type": "code",
   "execution_count": 29,
   "metadata": {},
   "outputs": [],
   "source": [
    "from langchain.chat_models import ChatOpenAI\n",
    "from langchain.chains import ConversationChain"
   ]
  },
  {
   "cell_type": "code",
   "execution_count": 30,
   "metadata": {},
   "outputs": [],
   "source": [
    "llm_model = \"gpt-3.5-turbo-0125\"\n",
    "chat = ChatOpenAI(temperature=0.7, model = llm_model)"
   ]
  },
  {
   "cell_type": "code",
   "execution_count": 31,
   "metadata": {},
   "outputs": [],
   "source": [
    "template_string = \"\"\"\n",
    "Traduce el texto que está delimitado en las comillas en un estilo que es {style}\n",
    "text: \"{texto}\"\n",
    "\"\"\""
   ]
  },
  {
   "cell_type": "code",
   "execution_count": 32,
   "metadata": {},
   "outputs": [],
   "source": [
    "from langchain.prompts import ChatPromptTemplate\n",
    "\n",
    "prompt_template = ChatPromptTemplate.from_template(template_string)"
   ]
  },
  {
   "cell_type": "code",
   "execution_count": 33,
   "metadata": {},
   "outputs": [
    {
     "data": {
      "text/plain": [
       "PromptTemplate(input_variables=['style', 'texto'], template='\\nTraduce el texto que está delimitado en las comillas en un estilo que es {style}\\ntext: \"{texto}\"\\n')"
      ]
     },
     "execution_count": 33,
     "metadata": {},
     "output_type": "execute_result"
    }
   ],
   "source": [
    "prompt_template.messages[0].prompt"
   ]
  },
  {
   "cell_type": "code",
   "execution_count": 34,
   "metadata": {},
   "outputs": [
    {
     "data": {
      "text/plain": [
       "['style', 'texto']"
      ]
     },
     "execution_count": 34,
     "metadata": {},
     "output_type": "execute_result"
    }
   ],
   "source": [
    "prompt_template.messages[0].prompt.input_variables"
   ]
  },
  {
   "cell_type": "code",
   "execution_count": 35,
   "metadata": {},
   "outputs": [],
   "source": [
    "style = \"\"\"\n",
    "Chilango acento marcado\n",
    "\"\"\""
   ]
  },
  {
   "cell_type": "code",
   "execution_count": 36,
   "metadata": {},
   "outputs": [],
   "source": [
    "from langchain.chat_models import ChatOpenAI\n",
    "from langchain.text_splitter import RecursiveCharacterTextSplitter\n",
    "from langchain.embeddings import OpenAIEmbeddings"
   ]
  },
  {
   "cell_type": "code",
   "execution_count": 37,
   "metadata": {},
   "outputs": [
    {
     "data": {
      "text/plain": [
       "37"
      ]
     },
     "execution_count": 37,
     "metadata": {},
     "output_type": "execute_result"
    }
   ],
   "source": [
    "\n",
    "from langchain_community.document_loaders import TextLoader\n",
    "from langchain_community.document_loaders import DirectoryLoader\n",
    "\n",
    "loader = DirectoryLoader('Death Note', glob=\"**/*.txt\", loader_cls=TextLoader)\n",
    "\n",
    "docs = loader.load()\n",
    "\n",
    "len(docs)"
   ]
  },
  {
   "cell_type": "code",
   "execution_count": 38,
   "metadata": {},
   "outputs": [],
   "source": [
    "text_splitter = RecursiveCharacterTextSplitter(chunk_size = 5000000, chunk_overlap= 1000)\n",
    "all_splits = text_splitter.split_documents(docs)"
   ]
  },
  {
   "cell_type": "code",
   "execution_count": 39,
   "metadata": {},
   "outputs": [
    {
     "data": {
      "text/plain": [
       "37"
      ]
     },
     "execution_count": 39,
     "metadata": {},
     "output_type": "execute_result"
    }
   ],
   "source": [
    "len(all_splits)"
   ]
  },
  {
   "cell_type": "code",
   "execution_count": 40,
   "metadata": {},
   "outputs": [
    {
     "data": {
      "text/plain": [
       "Document(page_content=\"Regardless of how she came up with that conclusion, she knows the truth.\\n\\nIf she tells the police about it, they'll finally realize that I am Kira.\\n\\nI have to do something about it.\\n\\nWhat's the matter?\\n\\nNothing.\\n\\nI've thought about what you just told me and I think we should look into that theory as soon as possible.\\n\\nReally?\\n\\nYes.\\n\\nHave you told anyone else about it?\\n\\nNo, you're the first.\\n\\nYou're lucky.\\n\\nBut how are you going to k*ll her?\\n\\nWouldn't it be horrible if you did it here?\\n\\nI know what I should do, without you even telling me.\\n\\nWow! You're doing it out in the open.\\n\\nCould you tell me the date and time of the hijacking incident?\\n\\nIt was on December 20, in front of Asagao Hill.\\n\\nAt 11:02 a.m. On the way to Space Land.\\n\\nDecember 20.\\n\\nOn the way to Space Land, right?\\n\\nYes.\\n\\nShoko Maki, su1c1de, January 1, 2007 Commits su1c1de, but nobody will bother and her body will not be found.\\n\\nDies by executing this plan within 48 hours.\\n\\nNow her body will never be found.\\n\\nEven if they do find her, they'll think that she committed su1c1de because of her fiancÃ©.\\n\\nWhat's so funny, Ryuk?\\n\\nI'm very sorry for questioning all of you individually.\\n\\nKira is not one of us.\\n\\nRyuzaki, what makes you think that Kira is not among us?\\n\\nTo be honest, I set some traps to check if you were Kira, but...\\n\\nI didn't feel the need to set them off on any of you.\\n\\nExcuse me.\\n\\nHe told us to switch off our cell phones!\\n\\nI got it.\\n\\nI'm almost done.\\n\\nEnter with your own key.\\n\\nWatari is coming.\\n\\nI understand.\\n\\nIf it's okay with you, I'll report this incident.\\n\\nNo.\\n\\nI'd like to report it myself.\\n\\nAfter talking to you, I've decided to take immediate action.\\n\\nI suppose you're right.\\n\\nJust ten seconds to 1:15 p.m.\\n\\nI want to see how this woman dies, but I have to follow her secretly.\\n\\nNow, hurry to your death!\\n\\nKira will definitely be caught, right?\\n\\nWhat?\\n\\nWhat's wrong? The time is already up.\\n\\nThat's weird.\\n\\nWhy won't she leave?\\n\\nMy tests have proved that I could k*ll them through su1c1de.\\n\\nThe criminals hanged themselves at the specified time.\\n\\nI've proved many times that I should be able to control her within these situations.\\n\\nSo why?\\n\\nRyuk.\\n\\nCome to think of it, he was laughing oddly when I used the Death Note.\\n\\nThat's not all.\\n\\nThe way he laughed when I asked for her name was also weird.\\n\\nIt happened every time her name was mentioned.\\n\\nAn alias!\\n\\nThank you all for your hard work.\\n\\nIs this Watari?\\n\\nWhere are your usual clothes?\\n\\nIf I dressed as usual, I would be giving away my identity as Watari.\\n\\nIt would also give away Ryuzaki's location in this hotel.\\n\\nI see.\\n\\nThe fact that I'm showing my face in front of you means you've won Ryuzaki's trust.\\n\\nI feel kind of honored.\\n\\nRyuzaki, I brought what you asked.\\n\\nGive them to everyone.\\n\\nYes.\\n\\nThese are everyone's new police IDs.\\n\\nNew?\\n\\nAn alias. That's it!\\n\\nRyuk can see her real name.\\n\\nThat's why he laughed.\\n\\nThis woman was being careful all along.\\n\\nThat's right.\\n\\nShe thinks Raye d*ed because he showed his ID.\\n\\nThat's why she's taking action without disclosing her identity.\\n\\nThis isn't good.\\n\\nIt's even harder to ask the real name of someone who has already given an alias.\\n\\nIf I keep asking her, she'll get suspicious.\\n\\nIt becomes more suspicious if I know that she was using an alias.\\n\\nI should be getting back soon.\\n\\nSomeone might be back at headquarters now.\\n\\nYes. I suppose you're right.\\n\\nHopefully, someone's already there.\\n\\nYes.\\n\\nDamn it!\\n\\nStopping her would also be unnatural.\\n\\nWhat should I do? At this rate...\\n\\nNo.\\n\\nIf my dad calls, I promised her that I'd let her speak with him!\\n\\nIt's all over if he calls!\\n\\nWhat do I do?\\n\\nWhat am I thinking about?\\n\\nI can just switch off my cell phone.\\n\\nCalm down.\\n\\nI just have to find out her actual name.\\n\\nThere's got to be a driver's license or some sort of personal ID in her purse, pocket or somewhere.\\n\\nShe's a woman.\\n\\nIf things become desperate, I can use force.\\n\\nThat's stupid!\\n\\nI can't make a scene in a place like this.\\n\\nShe has to go to an isolated area.\\n\\nWhere? How should I talk my way out of this?\\n\\nShe is too cautious.\\n\\nNo, I need to change my plan of att*ck.\\n\\nI can do this.\\n\\nI can get her name without setting any alarms off.\\n\\nLight.\\n\\nWe can always do the eye deal.\\n\\nIt's just the same as wearing contact lenses.\\n\\nI'll get it done in a few seconds.\\n\\nI won't cut my life short just because of this woman.\\n\\nNo, I won't ever consider the deal!\\n\\nDon't bother me.\\n\\nShut up, Shinigami!\\n\\n-Excuse me. -Yes?\\n\\nDo you still have other matters at the police department?\\n\\nI'll be okay on my own.\\n\\nI understand.\\n\\nOur names and ranks are all fake.\\n\\nFake police IDs?\\n\\nKira needs a name and a face to k*ll.\\n\\nWe are challenging Kira with this idea.\\n\\nThis is only natural.\\n\\nBut an officer with a fake ID is...\\n\\nNo, if Kira needs a name to k*ll, an alias would help us protect our lives.\\n\\nWe should carry these around.\\n\\n-I think so too. -Yes.\\n\\nWhen you're giving out your name to some stranger, use the alias in your IDs.\\n\\nYes.\\n\\nPlease be careful not to take them out within the police headquarters.\\n\\nIt could cause problems.\\n\\nUnderstood.\\n\\nWell then, everyone has to wear these belts.\\n\\nBelts?\\n\\nThese belts have a tracking device in the buckle.\\n\\nThis way, Ryuzaki will know your whereabouts.\\n\\nWhen you press the buckle twice,\\n\\nmy cell phone will ring.\\n\\nI'll call you back immediately.\\n\\nIn the morning, you will go to work as usual.\\n\\nUsing this method later, I shall confirm our hotel and room number.\\n\\nPlease use this for emergencies as well.\\n\\nThis is kind of cool. Like a special task force to capture Kira!\\n\\nTouta!\\n\\nThis isn't child's play.\\n\\nDon't joke around.\\n\\nOkay.\\n\\nThank you very much.\\n\\nThanks to you, I have gained confidence in my theory.\\n\\nDon't mention it.\\n\\nSince Ryuk started talking about the eye bargain, she is definitely using an alias.\\n\\nAt this rate, with her theory that Kira was on the bus and the information of the people Raye Penber was investigating, the police will immediately suspect me.\\n\\nHey, she's leaving. Is that okay?\\n\\nIt should take about five minutes for her to reach the headquarters.\\n\\nThink...\\n\\nHow can I get her name within five minutes?\\n\\nShe is going to the police headquarters.\\n\\nIf someone from the task force has returned, I'm finished.\\n\\nSomehow, I've got to find out her real name and k*ll her.\\n\\nThree minutes left until she reaches the police headquarters.\\n\\nAll right.\\n\\nWhat will you do?\\n\\n-Excuse me. -Yes?\\n\\nI haven't told you about something.\\n\\nOkay.\\n\\nIt's impossible to reach anyone in the headquarters directly.\\n\\nWhat?\\n\\nI need to have this conversation naturally and connect it to something that she'll latch onto.\\n\\nI'll draw out her name later on.\\n\\nI can do this.\\n\\nWhat do you mean?\\n\\nThere's no one at the headquarters. Don't you think that's weird?\\n\\nYes.\\n\\nI thought it was strange, but...\\n\\nThe team of investigators is structured, so no one knows who is involved.\\n\\nIf people found out that the team is structured, an incident that happened to your fiancÃ© may occur again.\\n\\nI understand.\\n\\nThat's why you were told that the headquarters was empty.\\n\\nIn other words, you will never be allowed to consult someone from the headquarters.\\n\\nThat's a smart move. As expected of you, Light.\\n\\nWhy do you know so much?\\n\\nShe's pretty sharp.\\n\\nI guess I have no choice. I should tell you.\\n\\nIt's because I'm a detective from the task force.\\n\\nYou're a detective from the task force?\\n\\n\\nYes.\\n\\nI'm actually in charge of the task force.\\n\\nYes. That's what I thought.\\n\\nI was troubled because the headquarters was understaffed.\\n\\nA lot of them quit because they're afraid of Kira.\\n\\nI'm just a high school student, but I helped the police solve two cases in the past.\\n\\nSo he was sold by that?\\n\\nI can go to the headquarters whenever I want to and I can investigate on my own.\\n\\nBasically, the people at the headquarters are the chosen few who can be trusted and whose abilities are reliable.\\n\\nI understand.\\n\\nBut I think I'll just drop by the headquarters anyway.\\n\\nThank you very much.\\n\\nPlease wait!\\n\\nI just told you that you can't speak with anyone.\\n\\nI would like to talk directly to L.\\n\\nCome to think of it, who is at the headquarters now?\\n\\nThere's no one.\\n\\nThat's not good.\\n\\nOne person should at least be there at all times.\\n\\nUnderstood.\\n\\nShuuichi, could you stay there for today?\\n\\nOkay.\\n\\nI can get there quickly from here.\\n\\nMs. Maki, please wait.\\n\\nIt's impossible to meet L.\\n\\nIt's useless.\\n\\nMaybe he could allow me to meet him.\\n\\nI only followed his orders from a computer screen, but two years ago in America, I used to work on a case under L.\\n\\nYou worked under L?\\n\\nI was an FBI agent until three months ago.\\n\\nThis is it. I can use this.\\n\\nIs that so?\\n\\nIt's no wonder.\\n\\nYou don't seem like an amateur to me.\\n\\nYou move cautiously and wisely as you get to the heart of the matter.\\n\\nI'd like to learn from you.\\n\\nIt's amazing how you can come up with those lies.\\n\\nI must approach this case in my own way.\\n\\nThe police and even the people within the task force are suspects.\\n\\nBut I trust L.\\n\\nIf I go to headquarters and have them verify my name and face, I'd be able to meet L in person.\\n\\nI see.\\n\\nBut why did you tell me that you wanted to speak with L?\\n\\nWhen I couldn't see anyone from the task force, I was angry and then I met someone who claimed to be the son of the lead detective.\\n\\nNo, that's not it.\\n\\nLet me be honest with you.\\n\\nYou remind me of L.\\n\\nI felt that you two are alike.\\n\\nShall we investigate the case together?\\n\\nWhat?\\n\\nWill you work as an agent in the task force?\\n\\nOf course, only certain people are allowed.\\n\\nBut we are looking for people like you!\\n\\nYou could be doing more than gathering general information.\\n\\nYou were an FBI agent.\\n\\nYou're more competent than our current detectives.\\n\\nEven L trusted you.\\n\\nTo join the task force, you need proper identification, a recommendation from a current detective and finally, L's permission.\\n\\nYou're asking me to join the task force?\\n\\nMaybe we were destined to meet!\\n\\nI'll recommend you!\\n\\nI'm sorry.\\n\\nI became a little excited.\\n\\nNo, it's okay.\\n\\nEven if you can assist with the investigation, you still have some matters to attend to.\\n\\nEspecially since you live in America.\\n\\nI was planning to stay in America with my fiancÃ©.\\n\\nWe were supposed to get married this spring.\\n\\nBut since he is already dead, I have no idea what I should do now.\\n\\nAll right. Since I've come this far, I'll push a little.\\n\\nBut you're still young and beautiful.\\n\\n-Don't get involved in a dangerous case. -No!\\n\\nI have nothing to lose.\\n\\nI want to catch Kira!\\n\\nI just want to do that!\\n\\nPlease let me cr*ck the case with you!\\n\\nThank goodness.\\n\\nWell, may I see some proof of personal identification?\\n\\n-Well... -Yes?\\n\\nActually, the name that I gave you earlier was not my real name.\\n\\nI'm sorry.\\n\\nWhat?\\n\\nThat's all right.\\n\\nThat's good. Who would have thought you were being so cautious?\\n\\nYou're one step ahead of me.\\n\\nObviously, it shows that you're qualified.\\n\\nIs it okay if I show my Japanese driver's license?\\n\\nYes.\\n\\nI made it.\\n\\nNaomi Misora, su1c1de, 1:15 p.m. on January 1, 2017\\n\\nExcuse me, why do you always look at your watch?\\n\\nThis?\\n\\nBecause...\\n\\nI'm Kira.\\n\\nWhat's the matter?\\n\\nThere's something I have to do.\\n\\nRight.\\n\\nMy dad's cell phone is on now.\\n\\nDon't you want to talk to him?\\n\\nI have nothing to talk about.\\n\\nGoodbye, Ms. Naomi Misora.\\n\\nTO BE CONTINUED\\n\\nPREVIEW With Ryuk's information and my preparations, I can k*ll the broadcasted criminals while disguising myself as a regular high school student.\\n\\nJust watch, L!\", metadata={'source': 'Death Note\\\\01x07 - Donten.txt'})"
      ]
     },
     "execution_count": 40,
     "metadata": {},
     "output_type": "execute_result"
    }
   ],
   "source": [
    "all_splits[6]"
   ]
  },
  {
   "cell_type": "code",
   "execution_count": 41,
   "metadata": {},
   "outputs": [
    {
     "name": "stdout",
     "output_type": "stream",
     "text": [
      "Requirement already satisfied: chromadb in c:\\users\\miguel\\anaconda3\\lib\\site-packages (0.5.0)\n",
      "Requirement already satisfied: build>=1.0.3 in c:\\users\\miguel\\anaconda3\\lib\\site-packages (from chromadb) (1.2.1)\n",
      "Requirement already satisfied: requests>=2.28 in c:\\users\\miguel\\anaconda3\\lib\\site-packages (from chromadb) (2.31.0)\n",
      "Requirement already satisfied: pydantic>=1.9 in c:\\users\\miguel\\anaconda3\\lib\\site-packages (from chromadb) (2.7.1)\n",
      "Requirement already satisfied: chroma-hnswlib==0.7.3 in c:\\users\\miguel\\anaconda3\\lib\\site-packages (from chromadb) (0.7.3)\n",
      "Requirement already satisfied: fastapi>=0.95.2 in c:\\users\\miguel\\anaconda3\\lib\\site-packages (from chromadb) (0.110.3)\n",
      "Requirement already satisfied: uvicorn>=0.18.3 in c:\\users\\miguel\\anaconda3\\lib\\site-packages (from uvicorn[standard]>=0.18.3->chromadb) (0.29.0)\n",
      "Requirement already satisfied: numpy>=1.22.5 in c:\\users\\miguel\\anaconda3\\lib\\site-packages (from chromadb) (1.26.4)\n",
      "Requirement already satisfied: posthog>=2.4.0 in c:\\users\\miguel\\anaconda3\\lib\\site-packages (from chromadb) (3.5.0)\n",
      "Requirement already satisfied: typing-extensions>=4.5.0 in c:\\users\\miguel\\anaconda3\\lib\\site-packages (from chromadb) (4.9.0)\n",
      "Requirement already satisfied: onnxruntime>=1.14.1 in c:\\users\\miguel\\anaconda3\\lib\\site-packages (from chromadb) (1.17.3)\n",
      "Requirement already satisfied: opentelemetry-api>=1.2.0 in c:\\users\\miguel\\anaconda3\\lib\\site-packages (from chromadb) (1.24.0)\n",
      "Requirement already satisfied: opentelemetry-exporter-otlp-proto-grpc>=1.2.0 in c:\\users\\miguel\\anaconda3\\lib\\site-packages (from chromadb) (1.24.0)\n",
      "Requirement already satisfied: opentelemetry-instrumentation-fastapi>=0.41b0 in c:\\users\\miguel\\anaconda3\\lib\\site-packages (from chromadb) (0.45b0)\n",
      "Requirement already satisfied: opentelemetry-sdk>=1.2.0 in c:\\users\\miguel\\anaconda3\\lib\\site-packages (from chromadb) (1.24.0)\n",
      "Requirement already satisfied: tokenizers>=0.13.2 in c:\\users\\miguel\\anaconda3\\lib\\site-packages (from chromadb) (0.19.1)\n",
      "Requirement already satisfied: pypika>=0.48.9 in c:\\users\\miguel\\anaconda3\\lib\\site-packages (from chromadb) (0.48.9)\n",
      "Requirement already satisfied: tqdm>=4.65.0 in c:\\users\\miguel\\anaconda3\\lib\\site-packages (from chromadb) (4.65.0)\n",
      "Requirement already satisfied: overrides>=7.3.1 in c:\\users\\miguel\\anaconda3\\lib\\site-packages (from chromadb) (7.4.0)\n",
      "Requirement already satisfied: importlib-resources in c:\\users\\miguel\\anaconda3\\lib\\site-packages (from chromadb) (6.4.0)\n",
      "Requirement already satisfied: grpcio>=1.58.0 in c:\\users\\miguel\\anaconda3\\lib\\site-packages (from chromadb) (1.62.2)\n",
      "Requirement already satisfied: bcrypt>=4.0.1 in c:\\users\\miguel\\anaconda3\\lib\\site-packages (from chromadb) (4.1.2)\n",
      "Requirement already satisfied: typer>=0.9.0 in c:\\users\\miguel\\anaconda3\\lib\\site-packages (from chromadb) (0.12.3)\n",
      "Requirement already satisfied: kubernetes>=28.1.0 in c:\\users\\miguel\\anaconda3\\lib\\site-packages (from chromadb) (29.0.0)\n",
      "Requirement already satisfied: tenacity>=8.2.3 in c:\\users\\miguel\\anaconda3\\lib\\site-packages (from chromadb) (8.2.3)\n",
      "Requirement already satisfied: PyYAML>=6.0.0 in c:\\users\\miguel\\anaconda3\\lib\\site-packages (from chromadb) (6.0.1)\n",
      "Requirement already satisfied: mmh3>=4.0.1 in c:\\users\\miguel\\anaconda3\\lib\\site-packages (from chromadb) (4.1.0)\n",
      "Requirement already satisfied: orjson>=3.9.12 in c:\\users\\miguel\\anaconda3\\lib\\site-packages (from chromadb) (3.10.1)\n",
      "Requirement already satisfied: packaging>=19.1 in c:\\users\\miguel\\anaconda3\\lib\\site-packages (from build>=1.0.3->chromadb) (23.2)\n",
      "Requirement already satisfied: pyproject_hooks in c:\\users\\miguel\\anaconda3\\lib\\site-packages (from build>=1.0.3->chromadb) (1.1.0)\n",
      "Requirement already satisfied: colorama in c:\\users\\miguel\\anaconda3\\lib\\site-packages (from build>=1.0.3->chromadb) (0.4.6)\n",
      "Requirement already satisfied: starlette<0.38.0,>=0.37.2 in c:\\users\\miguel\\anaconda3\\lib\\site-packages (from fastapi>=0.95.2->chromadb) (0.37.2)\n",
      "Requirement already satisfied: certifi>=14.05.14 in c:\\users\\miguel\\anaconda3\\lib\\site-packages (from kubernetes>=28.1.0->chromadb) (2024.2.2)\n",
      "Requirement already satisfied: six>=1.9.0 in c:\\users\\miguel\\anaconda3\\lib\\site-packages (from kubernetes>=28.1.0->chromadb) (1.16.0)\n",
      "Requirement already satisfied: python-dateutil>=2.5.3 in c:\\users\\miguel\\anaconda3\\lib\\site-packages (from kubernetes>=28.1.0->chromadb) (2.8.2)\n",
      "Requirement already satisfied: google-auth>=1.0.1 in c:\\users\\miguel\\anaconda3\\lib\\site-packages (from kubernetes>=28.1.0->chromadb) (2.29.0)\n",
      "Requirement already satisfied: websocket-client!=0.40.0,!=0.41.*,!=0.42.*,>=0.32.0 in c:\\users\\miguel\\anaconda3\\lib\\site-packages (from kubernetes>=28.1.0->chromadb) (0.58.0)\n",
      "Requirement already satisfied: requests-oauthlib in c:\\users\\miguel\\anaconda3\\lib\\site-packages (from kubernetes>=28.1.0->chromadb) (2.0.0)\n",
      "Requirement already satisfied: oauthlib>=3.2.2 in c:\\users\\miguel\\anaconda3\\lib\\site-packages (from kubernetes>=28.1.0->chromadb) (3.2.2)\n",
      "Requirement already satisfied: urllib3>=1.24.2 in c:\\users\\miguel\\anaconda3\\lib\\site-packages (from kubernetes>=28.1.0->chromadb) (2.0.7)\n",
      "Requirement already satisfied: coloredlogs in c:\\users\\miguel\\anaconda3\\lib\\site-packages (from onnxruntime>=1.14.1->chromadb) (15.0.1)\n",
      "Requirement already satisfied: flatbuffers in c:\\users\\miguel\\anaconda3\\lib\\site-packages (from onnxruntime>=1.14.1->chromadb) (24.3.25)\n",
      "Requirement already satisfied: protobuf in c:\\users\\miguel\\anaconda3\\lib\\site-packages (from onnxruntime>=1.14.1->chromadb) (3.20.3)\n",
      "Requirement already satisfied: sympy in c:\\users\\miguel\\anaconda3\\lib\\site-packages (from onnxruntime>=1.14.1->chromadb) (1.12)\n",
      "Requirement already satisfied: deprecated>=1.2.6 in c:\\users\\miguel\\anaconda3\\lib\\site-packages (from opentelemetry-api>=1.2.0->chromadb) (1.2.14)\n",
      "Requirement already satisfied: importlib-metadata<=7.0,>=6.0 in c:\\users\\miguel\\anaconda3\\lib\\site-packages (from opentelemetry-api>=1.2.0->chromadb) (7.0.0)\n",
      "Requirement already satisfied: googleapis-common-protos~=1.52 in c:\\users\\miguel\\anaconda3\\lib\\site-packages (from opentelemetry-exporter-otlp-proto-grpc>=1.2.0->chromadb) (1.63.0)\n",
      "Requirement already satisfied: opentelemetry-exporter-otlp-proto-common==1.24.0 in c:\\users\\miguel\\anaconda3\\lib\\site-packages (from opentelemetry-exporter-otlp-proto-grpc>=1.2.0->chromadb) (1.24.0)\n",
      "Requirement already satisfied: opentelemetry-proto==1.24.0 in c:\\users\\miguel\\anaconda3\\lib\\site-packages (from opentelemetry-exporter-otlp-proto-grpc>=1.2.0->chromadb) (1.24.0)\n",
      "Requirement already satisfied: opentelemetry-instrumentation-asgi==0.45b0 in c:\\users\\miguel\\anaconda3\\lib\\site-packages (from opentelemetry-instrumentation-fastapi>=0.41b0->chromadb) (0.45b0)\n",
      "Requirement already satisfied: opentelemetry-instrumentation==0.45b0 in c:\\users\\miguel\\anaconda3\\lib\\site-packages (from opentelemetry-instrumentation-fastapi>=0.41b0->chromadb) (0.45b0)\n",
      "Requirement already satisfied: opentelemetry-semantic-conventions==0.45b0 in c:\\users\\miguel\\anaconda3\\lib\\site-packages (from opentelemetry-instrumentation-fastapi>=0.41b0->chromadb) (0.45b0)\n",
      "Requirement already satisfied: opentelemetry-util-http==0.45b0 in c:\\users\\miguel\\anaconda3\\lib\\site-packages (from opentelemetry-instrumentation-fastapi>=0.41b0->chromadb) (0.45b0)\n",
      "Requirement already satisfied: setuptools>=16.0 in c:\\users\\miguel\\anaconda3\\lib\\site-packages (from opentelemetry-instrumentation==0.45b0->opentelemetry-instrumentation-fastapi>=0.41b0->chromadb) (68.2.2)\n",
      "Requirement already satisfied: wrapt<2.0.0,>=1.0.0 in c:\\users\\miguel\\anaconda3\\lib\\site-packages (from opentelemetry-instrumentation==0.45b0->opentelemetry-instrumentation-fastapi>=0.41b0->chromadb) (1.14.1)\n",
      "Requirement already satisfied: asgiref~=3.0 in c:\\users\\miguel\\anaconda3\\lib\\site-packages (from opentelemetry-instrumentation-asgi==0.45b0->opentelemetry-instrumentation-fastapi>=0.41b0->chromadb) (3.8.1)\n",
      "Requirement already satisfied: monotonic>=1.5 in c:\\users\\miguel\\anaconda3\\lib\\site-packages (from posthog>=2.4.0->chromadb) (1.6)\n",
      "Requirement already satisfied: backoff>=1.10.0 in c:\\users\\miguel\\anaconda3\\lib\\site-packages (from posthog>=2.4.0->chromadb) (2.2.1)\n",
      "Requirement already satisfied: annotated-types>=0.4.0 in c:\\users\\miguel\\anaconda3\\lib\\site-packages (from pydantic>=1.9->chromadb) (0.6.0)\n",
      "Requirement already satisfied: pydantic-core==2.18.2 in c:\\users\\miguel\\anaconda3\\lib\\site-packages (from pydantic>=1.9->chromadb) (2.18.2)\n",
      "Requirement already satisfied: charset-normalizer<4,>=2 in c:\\users\\miguel\\anaconda3\\lib\\site-packages (from requests>=2.28->chromadb) (2.0.4)\n",
      "Requirement already satisfied: idna<4,>=2.5 in c:\\users\\miguel\\anaconda3\\lib\\site-packages (from requests>=2.28->chromadb) (3.4)\n",
      "Requirement already satisfied: huggingface-hub<1.0,>=0.16.4 in c:\\users\\miguel\\anaconda3\\lib\\site-packages (from tokenizers>=0.13.2->chromadb) (0.22.2)\n",
      "Requirement already satisfied: click>=8.0.0 in c:\\users\\miguel\\anaconda3\\lib\\site-packages (from typer>=0.9.0->chromadb) (8.1.7)\n",
      "Requirement already satisfied: shellingham>=1.3.0 in c:\\users\\miguel\\anaconda3\\lib\\site-packages (from typer>=0.9.0->chromadb) (1.5.4)\n",
      "Requirement already satisfied: rich>=10.11.0 in c:\\users\\miguel\\anaconda3\\lib\\site-packages (from typer>=0.9.0->chromadb) (13.3.5)\n",
      "Requirement already satisfied: h11>=0.8 in c:\\users\\miguel\\anaconda3\\lib\\site-packages (from uvicorn>=0.18.3->uvicorn[standard]>=0.18.3->chromadb) (0.14.0)\n",
      "Requirement already satisfied: httptools>=0.5.0 in c:\\users\\miguel\\anaconda3\\lib\\site-packages (from uvicorn[standard]>=0.18.3->chromadb) (0.6.1)\n",
      "Requirement already satisfied: python-dotenv>=0.13 in c:\\users\\miguel\\anaconda3\\lib\\site-packages (from uvicorn[standard]>=0.18.3->chromadb) (0.21.0)\n",
      "Requirement already satisfied: watchfiles>=0.13 in c:\\users\\miguel\\anaconda3\\lib\\site-packages (from uvicorn[standard]>=0.18.3->chromadb) (0.21.0)\n",
      "Requirement already satisfied: websockets>=10.4 in c:\\users\\miguel\\anaconda3\\lib\\site-packages (from uvicorn[standard]>=0.18.3->chromadb) (11.0.3)\n",
      "Requirement already satisfied: cachetools<6.0,>=2.0.0 in c:\\users\\miguel\\anaconda3\\lib\\site-packages (from google-auth>=1.0.1->kubernetes>=28.1.0->chromadb) (4.2.2)\n",
      "Requirement already satisfied: pyasn1-modules>=0.2.1 in c:\\users\\miguel\\anaconda3\\lib\\site-packages (from google-auth>=1.0.1->kubernetes>=28.1.0->chromadb) (0.2.8)\n",
      "Requirement already satisfied: rsa<5,>=3.1.4 in c:\\users\\miguel\\anaconda3\\lib\\site-packages (from google-auth>=1.0.1->kubernetes>=28.1.0->chromadb) (4.9)\n",
      "Requirement already satisfied: filelock in c:\\users\\miguel\\anaconda3\\lib\\site-packages (from huggingface-hub<1.0,>=0.16.4->tokenizers>=0.13.2->chromadb) (3.13.1)\n",
      "Requirement already satisfied: fsspec>=2023.5.0 in c:\\users\\miguel\\anaconda3\\lib\\site-packages (from huggingface-hub<1.0,>=0.16.4->tokenizers>=0.13.2->chromadb) (2023.10.0)\n",
      "Requirement already satisfied: zipp>=0.5 in c:\\users\\miguel\\anaconda3\\lib\\site-packages (from importlib-metadata<=7.0,>=6.0->opentelemetry-api>=1.2.0->chromadb) (3.17.0)\n",
      "Requirement already satisfied: markdown-it-py<3.0.0,>=2.2.0 in c:\\users\\miguel\\anaconda3\\lib\\site-packages (from rich>=10.11.0->typer>=0.9.0->chromadb) (2.2.0)\n",
      "Requirement already satisfied: pygments<3.0.0,>=2.13.0 in c:\\users\\miguel\\anaconda3\\lib\\site-packages (from rich>=10.11.0->typer>=0.9.0->chromadb) (2.15.1)\n",
      "Requirement already satisfied: anyio<5,>=3.4.0 in c:\\users\\miguel\\anaconda3\\lib\\site-packages (from starlette<0.38.0,>=0.37.2->fastapi>=0.95.2->chromadb) (4.2.0)\n",
      "Requirement already satisfied: humanfriendly>=9.1 in c:\\users\\miguel\\anaconda3\\lib\\site-packages (from coloredlogs->onnxruntime>=1.14.1->chromadb) (10.0)\n",
      "Requirement already satisfied: mpmath>=0.19 in c:\\users\\miguel\\anaconda3\\lib\\site-packages (from sympy->onnxruntime>=1.14.1->chromadb) (1.3.0)\n",
      "Requirement already satisfied: sniffio>=1.1 in c:\\users\\miguel\\anaconda3\\lib\\site-packages (from anyio<5,>=3.4.0->starlette<0.38.0,>=0.37.2->fastapi>=0.95.2->chromadb) (1.3.0)\n",
      "Requirement already satisfied: pyreadline3 in c:\\users\\miguel\\anaconda3\\lib\\site-packages (from humanfriendly>=9.1->coloredlogs->onnxruntime>=1.14.1->chromadb) (3.4.1)\n",
      "Requirement already satisfied: mdurl~=0.1 in c:\\users\\miguel\\anaconda3\\lib\\site-packages (from markdown-it-py<3.0.0,>=2.2.0->rich>=10.11.0->typer>=0.9.0->chromadb) (0.1.0)\n",
      "Requirement already satisfied: pyasn1<0.5.0,>=0.4.6 in c:\\users\\miguel\\anaconda3\\lib\\site-packages (from pyasn1-modules>=0.2.1->google-auth>=1.0.1->kubernetes>=28.1.0->chromadb) (0.4.8)\n"
     ]
    }
   ],
   "source": [
    "!pip install chromadb"
   ]
  },
  {
   "cell_type": "code",
   "execution_count": 47,
   "metadata": {},
   "outputs": [
    {
     "name": "stdout",
     "output_type": "stream",
     "text": [
      "Collecting tiktoken\n",
      "  Downloading tiktoken-0.6.0-cp311-cp311-win_amd64.whl.metadata (6.8 kB)\n",
      "Requirement already satisfied: regex>=2022.1.18 in c:\\users\\miguel\\anaconda3\\lib\\site-packages (from tiktoken) (2023.10.3)\n",
      "Requirement already satisfied: requests>=2.26.0 in c:\\users\\miguel\\anaconda3\\lib\\site-packages (from tiktoken) (2.31.0)\n",
      "Requirement already satisfied: charset-normalizer<4,>=2 in c:\\users\\miguel\\anaconda3\\lib\\site-packages (from requests>=2.26.0->tiktoken) (2.0.4)\n",
      "Requirement already satisfied: idna<4,>=2.5 in c:\\users\\miguel\\anaconda3\\lib\\site-packages (from requests>=2.26.0->tiktoken) (3.4)\n",
      "Requirement already satisfied: urllib3<3,>=1.21.1 in c:\\users\\miguel\\anaconda3\\lib\\site-packages (from requests>=2.26.0->tiktoken) (2.0.7)\n",
      "Requirement already satisfied: certifi>=2017.4.17 in c:\\users\\miguel\\anaconda3\\lib\\site-packages (from requests>=2.26.0->tiktoken) (2024.2.2)\n",
      "Downloading tiktoken-0.6.0-cp311-cp311-win_amd64.whl (798 kB)\n",
      "   ---------------------------------------- 0.0/798.7 kB ? eta -:--:--\n",
      "    --------------------------------------- 10.2/798.7 kB ? eta -:--:--\n",
      "   --- ----------------------------------- 71.7/798.7 kB 787.7 kB/s eta 0:00:01\n",
      "   -------- ------------------------------- 174.1/798.7 kB 1.3 MB/s eta 0:00:01\n",
      "   -------------- ------------------------- 286.7/798.7 kB 1.6 MB/s eta 0:00:01\n",
      "   ------------------- -------------------- 389.1/798.7 kB 1.9 MB/s eta 0:00:01\n",
      "   ------------------------- -------------- 501.8/798.7 kB 2.0 MB/s eta 0:00:01\n",
      "   ------------------------- -------------- 501.8/798.7 kB 2.0 MB/s eta 0:00:01\n",
      "   -------------------------- ------------- 522.2/798.7 kB 1.4 MB/s eta 0:00:01\n",
      "   ---------------------------------------  788.5/798.7 kB 1.9 MB/s eta 0:00:01\n",
      "   ---------------------------------------- 798.7/798.7 kB 1.9 MB/s eta 0:00:00\n",
      "Installing collected packages: tiktoken\n",
      "Successfully installed tiktoken-0.6.0\n",
      "Note: you may need to restart the kernel to use updated packages.\n"
     ]
    }
   ],
   "source": [
    "pip install tiktoken"
   ]
  },
  {
   "cell_type": "code",
   "execution_count": 48,
   "metadata": {},
   "outputs": [],
   "source": [
    "from langchain.vectorstores import Chroma\n",
    "\n",
    "embeddings = OpenAIEmbeddings()\n",
    "vectorstore = Chroma.from_documents(all_splits, embeddings)"
   ]
  },
  {
   "cell_type": "code",
   "execution_count": 49,
   "metadata": {},
   "outputs": [],
   "source": [
    "from langchain.chains import ConversationalRetrievalChain\n",
    "from langchain.memory import ConversationBufferMemory\n",
    "\n",
    "llm = ChatOpenAI(temperature=0.0)\n",
    "retriever = vectorstore.as_retriever()\n",
    "\n",
    "memory = ConversationBufferMemory(\n",
    "    llm = llm,\n",
    "    memory_key = \"chat_history\",\n",
    "    return_messages=True\n",
    ")\n",
    "\n",
    "qa = ConversationalRetrievalChain.from_llm(\n",
    "    llm,\n",
    "    retriever = retriever,\n",
    "    memory = memory\n",
    ")"
   ]
  },
  {
   "cell_type": "code",
   "execution_count": 51,
   "metadata": {},
   "outputs": [],
   "source": [
    "res = qa(\"¿Como murio Kira?\")"
   ]
  },
  {
   "cell_type": "code",
   "execution_count": 52,
   "metadata": {},
   "outputs": [
    {
     "name": "stdout",
     "output_type": "stream",
     "text": [
      "Al final de Death Note, Kira muere de una forma indirecta. Después de una serie de eventos y confrontaciones, Kira es finalmente expuesto y acorralado. En un intento desesperado por escapar, Kira intenta usar el Death Note para matar aquellos que lo persiguen, pero comete un error y es descubierto. Finalmente, Kira muere de un ataque al corazón causado por el Death Note, poniendo fin a su reinado como \"Dios\" del nuevo mundo.\n"
     ]
    }
   ],
   "source": [
    "print(res[\"answer\"])"
   ]
  },
  {
   "cell_type": "code",
   "execution_count": 53,
   "metadata": {},
   "outputs": [],
   "source": [
    "example_text = res[\"answer\"]"
   ]
  },
  {
   "cell_type": "code",
   "execution_count": 54,
   "metadata": {},
   "outputs": [],
   "source": [
    "example_message = prompt_template.format_messages(\n",
    "    style = style,\n",
    "    texto = example_text\n",
    ")"
   ]
  },
  {
   "cell_type": "code",
   "execution_count": 55,
   "metadata": {},
   "outputs": [
    {
     "data": {
      "text/plain": [
       "[HumanMessage(content='\\nTraduce el texto que está delimitado en las comillas en un estilo que es \\nChilango acento marcado\\n\\ntext: \"Al final de Death Note, Kira muere de una forma indirecta. Después de una serie de eventos y confrontaciones, Kira es finalmente expuesto y acorralado. En un intento desesperado por escapar, Kira intenta usar el Death Note para matar aquellos que lo persiguen, pero comete un error y es descubierto. Finalmente, Kira muere de un ataque al corazón causado por el Death Note, poniendo fin a su reinado como \"Dios\" del nuevo mundo.\"\\n')]"
      ]
     },
     "execution_count": 55,
     "metadata": {},
     "output_type": "execute_result"
    }
   ],
   "source": [
    "example_message"
   ]
  },
  {
   "cell_type": "code",
   "execution_count": 57,
   "metadata": {},
   "outputs": [],
   "source": [
    "response = chat(example_message)"
   ]
  },
  {
   "cell_type": "code",
   "execution_count": 58,
   "metadata": {},
   "outputs": [
    {
     "name": "stdout",
     "output_type": "stream",
     "text": [
      "\"Al final de Death Note, güey, Kira se muere de una manera bien indirecta, ¿no? Después de un chingo de pedos y confrontaciones, pues al final lo cachan y lo acorralan, ¿sabes? En un intento bien desesperado por escapar, Kira trata de usar el Death Note pa' matar a los que lo andan persiguiendo, pero se equivoca y lo descubren. Al final, Kira se va pa'l otro barrio con un ataque al corazón causado por el Death Note, acabando con su rollo de ser el \"Dios\" del nuevo mundo, ¿qué onda, compa?\"\n"
     ]
    }
   ],
   "source": [
    "print(response.content)"
   ]
  },
  {
   "cell_type": "code",
   "execution_count": 59,
   "metadata": {},
   "outputs": [
    {
     "name": "stdout",
     "output_type": "stream",
     "text": [
      "Requirement already satisfied: gradio in c:\\users\\miguel\\anaconda3\\lib\\site-packages (4.28.3)\n",
      "Requirement already satisfied: aiofiles<24.0,>=22.0 in c:\\users\\miguel\\anaconda3\\lib\\site-packages (from gradio) (23.2.1)\n",
      "Requirement already satisfied: altair<6.0,>=4.2.0 in c:\\users\\miguel\\anaconda3\\lib\\site-packages (from gradio) (5.0.1)\n",
      "Requirement already satisfied: fastapi in c:\\users\\miguel\\anaconda3\\lib\\site-packages (from gradio) (0.110.3)\n",
      "Requirement already satisfied: ffmpy in c:\\users\\miguel\\anaconda3\\lib\\site-packages (from gradio) (0.3.2)\n",
      "Requirement already satisfied: gradio-client==0.16.0 in c:\\users\\miguel\\anaconda3\\lib\\site-packages (from gradio) (0.16.0)\n",
      "Requirement already satisfied: httpx>=0.24.1 in c:\\users\\miguel\\anaconda3\\lib\\site-packages (from gradio) (0.27.0)\n",
      "Requirement already satisfied: huggingface-hub>=0.19.3 in c:\\users\\miguel\\anaconda3\\lib\\site-packages (from gradio) (0.22.2)\n",
      "Requirement already satisfied: importlib-resources<7.0,>=1.3 in c:\\users\\miguel\\anaconda3\\lib\\site-packages (from gradio) (6.4.0)\n",
      "Requirement already satisfied: jinja2<4.0 in c:\\users\\miguel\\anaconda3\\lib\\site-packages (from gradio) (3.1.3)\n",
      "Requirement already satisfied: markupsafe~=2.0 in c:\\users\\miguel\\anaconda3\\lib\\site-packages (from gradio) (2.1.3)\n",
      "Requirement already satisfied: matplotlib~=3.0 in c:\\users\\miguel\\anaconda3\\lib\\site-packages (from gradio) (3.8.0)\n",
      "Requirement already satisfied: numpy~=1.0 in c:\\users\\miguel\\anaconda3\\lib\\site-packages (from gradio) (1.26.4)\n",
      "Requirement already satisfied: orjson~=3.0 in c:\\users\\miguel\\anaconda3\\lib\\site-packages (from gradio) (3.10.1)\n",
      "Requirement already satisfied: packaging in c:\\users\\miguel\\anaconda3\\lib\\site-packages (from gradio) (23.2)\n",
      "Requirement already satisfied: pandas<3.0,>=1.0 in c:\\users\\miguel\\anaconda3\\lib\\site-packages (from gradio) (2.1.4)\n",
      "Requirement already satisfied: pillow<11.0,>=8.0 in c:\\users\\miguel\\anaconda3\\lib\\site-packages (from gradio) (10.2.0)\n",
      "Requirement already satisfied: pydantic>=2.0 in c:\\users\\miguel\\anaconda3\\lib\\site-packages (from gradio) (2.7.1)\n",
      "Requirement already satisfied: pydub in c:\\users\\miguel\\anaconda3\\lib\\site-packages (from gradio) (0.25.1)\n",
      "Requirement already satisfied: python-multipart>=0.0.9 in c:\\users\\miguel\\anaconda3\\lib\\site-packages (from gradio) (0.0.9)\n",
      "Requirement already satisfied: pyyaml<7.0,>=5.0 in c:\\users\\miguel\\anaconda3\\lib\\site-packages (from gradio) (6.0.1)\n",
      "Requirement already satisfied: ruff>=0.2.2 in c:\\users\\miguel\\anaconda3\\lib\\site-packages (from gradio) (0.4.2)\n",
      "Requirement already satisfied: semantic-version~=2.0 in c:\\users\\miguel\\anaconda3\\lib\\site-packages (from gradio) (2.10.0)\n",
      "Requirement already satisfied: tomlkit==0.12.0 in c:\\users\\miguel\\anaconda3\\lib\\site-packages (from gradio) (0.12.0)\n",
      "Requirement already satisfied: typer<1.0,>=0.12 in c:\\users\\miguel\\anaconda3\\lib\\site-packages (from gradio) (0.12.3)\n",
      "Requirement already satisfied: typing-extensions~=4.0 in c:\\users\\miguel\\anaconda3\\lib\\site-packages (from gradio) (4.9.0)\n",
      "Requirement already satisfied: urllib3~=2.0 in c:\\users\\miguel\\anaconda3\\lib\\site-packages (from gradio) (2.0.7)\n",
      "Requirement already satisfied: uvicorn>=0.14.0 in c:\\users\\miguel\\anaconda3\\lib\\site-packages (from gradio) (0.29.0)\n",
      "Requirement already satisfied: fsspec in c:\\users\\miguel\\anaconda3\\lib\\site-packages (from gradio-client==0.16.0->gradio) (2023.10.0)\n",
      "Requirement already satisfied: websockets<12.0,>=10.0 in c:\\users\\miguel\\anaconda3\\lib\\site-packages (from gradio-client==0.16.0->gradio) (11.0.3)\n",
      "Requirement already satisfied: jsonschema>=3.0 in c:\\users\\miguel\\anaconda3\\lib\\site-packages (from altair<6.0,>=4.2.0->gradio) (4.19.2)\n",
      "Requirement already satisfied: toolz in c:\\users\\miguel\\anaconda3\\lib\\site-packages (from altair<6.0,>=4.2.0->gradio) (0.12.0)\n",
      "Requirement already satisfied: anyio in c:\\users\\miguel\\anaconda3\\lib\\site-packages (from httpx>=0.24.1->gradio) (4.2.0)\n",
      "Requirement already satisfied: certifi in c:\\users\\miguel\\anaconda3\\lib\\site-packages (from httpx>=0.24.1->gradio) (2024.2.2)\n",
      "Requirement already satisfied: httpcore==1.* in c:\\users\\miguel\\anaconda3\\lib\\site-packages (from httpx>=0.24.1->gradio) (1.0.5)\n",
      "Requirement already satisfied: idna in c:\\users\\miguel\\anaconda3\\lib\\site-packages (from httpx>=0.24.1->gradio) (3.4)\n",
      "Requirement already satisfied: sniffio in c:\\users\\miguel\\anaconda3\\lib\\site-packages (from httpx>=0.24.1->gradio) (1.3.0)\n",
      "Requirement already satisfied: h11<0.15,>=0.13 in c:\\users\\miguel\\anaconda3\\lib\\site-packages (from httpcore==1.*->httpx>=0.24.1->gradio) (0.14.0)\n",
      "Requirement already satisfied: filelock in c:\\users\\miguel\\anaconda3\\lib\\site-packages (from huggingface-hub>=0.19.3->gradio) (3.13.1)\n",
      "Requirement already satisfied: requests in c:\\users\\miguel\\anaconda3\\lib\\site-packages (from huggingface-hub>=0.19.3->gradio) (2.31.0)\n",
      "Requirement already satisfied: tqdm>=4.42.1 in c:\\users\\miguel\\anaconda3\\lib\\site-packages (from huggingface-hub>=0.19.3->gradio) (4.65.0)\n",
      "Requirement already satisfied: contourpy>=1.0.1 in c:\\users\\miguel\\anaconda3\\lib\\site-packages (from matplotlib~=3.0->gradio) (1.2.0)\n",
      "Requirement already satisfied: cycler>=0.10 in c:\\users\\miguel\\anaconda3\\lib\\site-packages (from matplotlib~=3.0->gradio) (0.11.0)\n",
      "Requirement already satisfied: fonttools>=4.22.0 in c:\\users\\miguel\\anaconda3\\lib\\site-packages (from matplotlib~=3.0->gradio) (4.25.0)\n",
      "Requirement already satisfied: kiwisolver>=1.0.1 in c:\\users\\miguel\\anaconda3\\lib\\site-packages (from matplotlib~=3.0->gradio) (1.4.4)\n",
      "Requirement already satisfied: pyparsing>=2.3.1 in c:\\users\\miguel\\anaconda3\\lib\\site-packages (from matplotlib~=3.0->gradio) (3.0.9)\n",
      "Requirement already satisfied: python-dateutil>=2.7 in c:\\users\\miguel\\anaconda3\\lib\\site-packages (from matplotlib~=3.0->gradio) (2.8.2)\n",
      "Requirement already satisfied: pytz>=2020.1 in c:\\users\\miguel\\anaconda3\\lib\\site-packages (from pandas<3.0,>=1.0->gradio) (2023.3.post1)\n",
      "Requirement already satisfied: tzdata>=2022.1 in c:\\users\\miguel\\anaconda3\\lib\\site-packages (from pandas<3.0,>=1.0->gradio) (2023.3)\n",
      "Requirement already satisfied: annotated-types>=0.4.0 in c:\\users\\miguel\\anaconda3\\lib\\site-packages (from pydantic>=2.0->gradio) (0.6.0)\n",
      "Requirement already satisfied: pydantic-core==2.18.2 in c:\\users\\miguel\\anaconda3\\lib\\site-packages (from pydantic>=2.0->gradio) (2.18.2)\n",
      "Requirement already satisfied: click>=8.0.0 in c:\\users\\miguel\\anaconda3\\lib\\site-packages (from typer<1.0,>=0.12->gradio) (8.1.7)\n",
      "Requirement already satisfied: shellingham>=1.3.0 in c:\\users\\miguel\\anaconda3\\lib\\site-packages (from typer<1.0,>=0.12->gradio) (1.5.4)\n",
      "Requirement already satisfied: rich>=10.11.0 in c:\\users\\miguel\\anaconda3\\lib\\site-packages (from typer<1.0,>=0.12->gradio) (13.3.5)\n",
      "Requirement already satisfied: starlette<0.38.0,>=0.37.2 in c:\\users\\miguel\\anaconda3\\lib\\site-packages (from fastapi->gradio) (0.37.2)\n",
      "Requirement already satisfied: colorama in c:\\users\\miguel\\anaconda3\\lib\\site-packages (from click>=8.0.0->typer<1.0,>=0.12->gradio) (0.4.6)\n",
      "Requirement already satisfied: attrs>=22.2.0 in c:\\users\\miguel\\anaconda3\\lib\\site-packages (from jsonschema>=3.0->altair<6.0,>=4.2.0->gradio) (23.1.0)\n",
      "Requirement already satisfied: jsonschema-specifications>=2023.03.6 in c:\\users\\miguel\\anaconda3\\lib\\site-packages (from jsonschema>=3.0->altair<6.0,>=4.2.0->gradio) (2023.7.1)\n",
      "Requirement already satisfied: referencing>=0.28.4 in c:\\users\\miguel\\anaconda3\\lib\\site-packages (from jsonschema>=3.0->altair<6.0,>=4.2.0->gradio) (0.30.2)\n",
      "Requirement already satisfied: rpds-py>=0.7.1 in c:\\users\\miguel\\anaconda3\\lib\\site-packages (from jsonschema>=3.0->altair<6.0,>=4.2.0->gradio) (0.10.6)\n",
      "Requirement already satisfied: six>=1.5 in c:\\users\\miguel\\anaconda3\\lib\\site-packages (from python-dateutil>=2.7->matplotlib~=3.0->gradio) (1.16.0)\n",
      "Requirement already satisfied: markdown-it-py<3.0.0,>=2.2.0 in c:\\users\\miguel\\anaconda3\\lib\\site-packages (from rich>=10.11.0->typer<1.0,>=0.12->gradio) (2.2.0)\n",
      "Requirement already satisfied: pygments<3.0.0,>=2.13.0 in c:\\users\\miguel\\anaconda3\\lib\\site-packages (from rich>=10.11.0->typer<1.0,>=0.12->gradio) (2.15.1)\n",
      "Requirement already satisfied: charset-normalizer<4,>=2 in c:\\users\\miguel\\anaconda3\\lib\\site-packages (from requests->huggingface-hub>=0.19.3->gradio) (2.0.4)\n",
      "Requirement already satisfied: mdurl~=0.1 in c:\\users\\miguel\\anaconda3\\lib\\site-packages (from markdown-it-py<3.0.0,>=2.2.0->rich>=10.11.0->typer<1.0,>=0.12->gradio) (0.1.0)\n",
      "Note: you may need to restart the kernel to use updated packages.\n"
     ]
    }
   ],
   "source": [
    "pip install gradio"
   ]
  },
  {
   "cell_type": "code",
   "execution_count": 60,
   "metadata": {},
   "outputs": [
    {
     "name": "stdout",
     "output_type": "stream",
     "text": [
      "Name: gradio\n",
      "Version: 4.28.3\n",
      "Summary: Python library for easily interacting with trained machine learning models\n",
      "Home-page: \n",
      "Author: \n",
      "Author-email: Abubakar Abid <gradio-team@huggingface.co>, Ali Abid <gradio-team@huggingface.co>, Ali Abdalla <gradio-team@huggingface.co>, Dawood Khan <gradio-team@huggingface.co>, Ahsen Khaliq <gradio-team@huggingface.co>, Pete Allen <gradio-team@huggingface.co>, Ömer Faruk Özdemir <gradio-team@huggingface.co>, Freddy A Boulton <gradio-team@huggingface.co>, Hannah Blair <gradio-team@huggingface.co>\n",
      "License: \n",
      "Location: C:\\Users\\Miguel\\anaconda3\\Lib\\site-packages\n",
      "Requires: aiofiles, altair, fastapi, ffmpy, gradio-client, httpx, huggingface-hub, importlib-resources, jinja2, markupsafe, matplotlib, numpy, orjson, packaging, pandas, pillow, pydantic, pydub, python-multipart, pyyaml, ruff, semantic-version, tomlkit, typer, typing-extensions, urllib3, uvicorn\n",
      "Required-by: \n"
     ]
    }
   ],
   "source": [
    "!pip show gradio"
   ]
  },
  {
   "cell_type": "code",
   "execution_count": 64,
   "metadata": {},
   "outputs": [],
   "source": [
    "!pip install -q gradio"
   ]
  },
  {
   "cell_type": "code",
   "execution_count": 74,
   "metadata": {},
   "outputs": [
    {
     "name": "stdout",
     "output_type": "stream",
     "text": [
      "Caching examples at: 'C:\\Users\\Miguel\\Documents\\JupyterNB\\llm\\gradio_cached_examples\\189'\n",
      "Caching example 1/3\n",
      "Caching example 2/3\n",
      "Caching example 3/3\n",
      "Running on local URL:  http://127.0.0.1:7871\n",
      "\n",
      "To create a public link, set `share=True` in `launch()`.\n"
     ]
    },
    {
     "data": {
      "text/html": [
       "<div><iframe src=\"http://127.0.0.1:7871/\" width=\"100%\" height=\"500\" allow=\"autoplay; camera; microphone; clipboard-read; clipboard-write;\" frameborder=\"0\" allowfullscreen></iframe></div>"
      ],
      "text/plain": [
       "<IPython.core.display.HTML object>"
      ]
     },
     "metadata": {},
     "output_type": "display_data"
    },
    {
     "data": {
      "text/plain": []
     },
     "execution_count": 74,
     "metadata": {},
     "output_type": "execute_result"
    }
   ],
   "source": [
    "import gradio as gr\n",
    "\n",
    "def botsito(message, history):\n",
    "    res = qa(message)\n",
    "    example_text = res[\"answer\"]\n",
    "    example_message = prompt_template.format_messages(\n",
    "        style = style,\n",
    "        texto = example_text\n",
    "    )\n",
    "    response = chat(example_message)\n",
    "    return response.content\n",
    "gr.ChatInterface(\n",
    "    botsito,\n",
    "    chatbot=gr.Chatbot(height=400),\n",
    "    textbox=gr.Textbox(placeholder=\"Escribe algo... uwu\", container=False, scale=7),\n",
    "    title=\"Chatbot-sito-GPT\",\n",
    "    description=\"Preguntame algo de DeatNote\",\n",
    "    theme=\"soft\",\n",
    "    examples=[\"Como murió Kira\", \"Am I cool?\", \"Are tomatoes vegetables?\"],\n",
    "    cache_examples=True,\n",
    "    retry_btn=None,\n",
    "    undo_btn=\"Delete Previous\",\n",
    "    clear_btn=\"Clear\",\n",
    ").launch()"
   ]
  },
  {
   "cell_type": "code",
   "execution_count": null,
   "metadata": {},
   "outputs": [],
   "source": []
  }
 ],
 "metadata": {
  "kernelspec": {
   "display_name": "Python 3 (ipykernel)",
   "language": "python",
   "name": "python3"
  },
  "language_info": {
   "codemirror_mode": {
    "name": "ipython",
    "version": 3
   },
   "file_extension": ".py",
   "mimetype": "text/x-python",
   "name": "python",
   "nbconvert_exporter": "python",
   "pygments_lexer": "ipython3",
   "version": "3.11.7"
  }
 },
 "nbformat": 4,
 "nbformat_minor": 4
}
